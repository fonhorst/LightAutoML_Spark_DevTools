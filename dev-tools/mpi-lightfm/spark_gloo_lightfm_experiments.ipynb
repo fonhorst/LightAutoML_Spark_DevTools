{
 "cells": [
  {
   "cell_type": "code",
   "execution_count": 3,
   "id": "5d6c13c4-742e-4853-9b7c-db0c6dc1ea01",
   "metadata": {
    "pycharm": {
     "name": "#%%\n"
    }
   },
   "outputs": [
    {
     "data": {
      "text/html": [
       "<style type='text/css'>\n",
       ".datatable table.frame { margin-bottom: 0; }\n",
       ".datatable table.frame thead { border-bottom: none; }\n",
       ".datatable table.frame tr.coltypes td {  color: #FFFFFF;  line-height: 6px;  padding: 0 0.5em;}\n",
       ".datatable .bool    { background: #DDDD99; }\n",
       ".datatable .object  { background: #565656; }\n",
       ".datatable .int     { background: #5D9E5D; }\n",
       ".datatable .float   { background: #4040CC; }\n",
       ".datatable .str     { background: #CC4040; }\n",
       ".datatable .time    { background: #40CC40; }\n",
       ".datatable .row_index {  background: var(--jp-border-color3);  border-right: 1px solid var(--jp-border-color0);  color: var(--jp-ui-font-color3);  font-size: 9px;}\n",
       ".datatable .frame tbody td { text-align: left; }\n",
       ".datatable .frame tr.coltypes .row_index {  background: var(--jp-border-color0);}\n",
       ".datatable th:nth-child(2) { padding-left: 12px; }\n",
       ".datatable .hellipsis {  color: var(--jp-cell-editor-border-color);}\n",
       ".datatable .vellipsis {  background: var(--jp-layout-color0);  color: var(--jp-cell-editor-border-color);}\n",
       ".datatable .na {  color: var(--jp-cell-editor-border-color);  font-size: 80%;}\n",
       ".datatable .sp {  opacity: 0.25;}\n",
       ".datatable .footer { font-size: 9px; }\n",
       ".datatable .frame_dimensions {  background: var(--jp-border-color3);  border-top: 1px solid var(--jp-border-color0);  color: var(--jp-ui-font-color3);  display: inline-block;  opacity: 0.6;  padding: 1px 10px 1px 5px;}\n",
       "</style>\n"
      ],
      "text/plain": [
       "<IPython.core.display.HTML object>"
      ]
     },
     "metadata": {},
     "output_type": "display_data"
    }
   ],
   "source": [
    "import os\n",
    "\n",
    "from lightfm import LightFM\n",
    "from lightfm.evaluation import precision_at_k\n",
    "from pyspark.sql import functions as sf, SparkSession, Window\n",
    "from replay.session_handler import State\n",
    "from replay.data_preparator import DataPreparator, Indexer\n",
    "from replay.splitters import DateSplitter, UserSplitter\n",
    "from replay.utils import get_log_info, get_top_k_recs\n",
    "from replay.metrics import Coverage, HitRate, NDCG, MAP, Precision\n",
    "from replay.experiment import Experiment\n",
    "from rs_datasets import MillionSongDataset, MovieLens\n",
    "from scipy.sparse import csr_matrix"
   ]
  },
  {
   "cell_type": "code",
   "execution_count": 2,
   "outputs": [],
   "source": [
    "os.environ[\"PYSPARK_PYTHON\"]=\"/opt/conda/envs/lightfm-gloo/bin/python3.8\""
   ],
   "metadata": {
    "collapsed": false,
    "pycharm": {
     "name": "#%%\n"
    }
   }
  },
  {
   "cell_type": "code",
   "execution_count": 4,
   "id": "b2cee85d-3aaa-43f3-96fa-bfa9681b2554",
   "metadata": {
    "pycharm": {
     "name": "#%%\n"
    }
   },
   "outputs": [],
   "source": [
    "spark_sess = (\n",
    "    SparkSession\n",
    "        .builder\n",
    "        .master(\"local[6]\")\n",
    "        .config(\"spark.serializer\", \"org.apache.spark.serializer.KryoSerializer\")\n",
    "        .config(\"spark.kryoserializer.buffer.max\", \"512m\")\n",
    "        .config(\"spark.driver.memory\", \"64g\")\n",
    "        .config(\"spark.executor.memory\", \"64g\")\n",
    "        .config(\"spark.sql.shuffle.partitions\", \"18\")\n",
    "        .config(\"spark.default.parallelism\", \"18\")\n",
    "        .config(\"spark.sql.execution.arrow.pyspark.enabled\", \"true\")\n",
    "        .config(\"spark.local.dir\", \"/tmp\")\n",
    "        .getOrCreate()\n",
    ")\n",
    "\n",
    "spark = State(spark_sess).session\n",
    "spark.sparkContext.setLogLevel(\"ERROR\")"
   ]
  },
  {
   "cell_type": "code",
   "execution_count": 5,
   "id": "2b9d85c3-0d15-4184-bd14-bdafecd8cd3b",
   "metadata": {
    "pycharm": {
     "name": "#%%\n"
    }
   },
   "outputs": [],
   "source": [
    "cores=6\n",
    "K = 1000\n",
    "SEED=22"
   ]
  },
  {
   "cell_type": "code",
   "execution_count": 6,
   "id": "54ce5f43-38ac-4d0e-bd50-595ddd01096d",
   "metadata": {
    "pycharm": {
     "name": "#%%\n"
    }
   },
   "outputs": [],
   "source": [
    "dataset_size = \"10m\"\n",
    "data = MovieLens(dataset_size)"
   ]
  },
  {
   "cell_type": "code",
   "execution_count": 7,
   "id": "9d048912-2a61-44b5-a50a-59717174f9f2",
   "metadata": {
    "pycharm": {
     "name": "#%%\n"
    }
   },
   "outputs": [
    {
     "name": "stderr",
     "output_type": "stream",
     "text": [
      "14-Feb-23 11:59:53, replay, INFO: Columns with ids of users or items are present in mapping. The dataframe will be treated as an interactions log.\n"
     ]
    }
   ],
   "source": [
    "preparator = DataPreparator()\n",
    "\n",
    "log = preparator.transform(\n",
    "            columns_mapping={\n",
    "                \"user_id\": \"user_id\",\n",
    "                \"item_id\": \"item_id\",\n",
    "                \"relevance\": \"rating\", \n",
    "                \"timestamp\": \"timestamp\",\n",
    "            },\n",
    "            data=data.ratings\n",
    ")\n",
    "\n",
    "log = log.withColumnRenamed(\"user_id\",\"user_idx\").withColumnRenamed(\"item_id\", \"item_idx\")\n",
    "\n",
    "log = log.repartition(cores).cache()\n",
    "log.write.mode('overwrite').format('noop').save()"
   ]
  },
  {
   "cell_type": "code",
   "execution_count": 8,
   "id": "696a5fa1-43a2-4459-b968-3395646eeaa6",
   "metadata": {
    "pycharm": {
     "name": "#%%\n"
    }
   },
   "outputs": [
    {
     "name": "stdout",
     "output_type": "stream",
     "text": [
      "train info:\n",
      " total lines: 6593699, total users: 59263, total items: 8888\n",
      "test info:\n",
      " total lines: 196480, total users: 3171, total items: 7482\n"
     ]
    }
   ],
   "source": [
    "only_positives_log = log.filter(sf.col('relevance') >= 3)\n",
    "train_spl = DateSplitter(\n",
    "    test_start=0.2,\n",
    "    drop_cold_items=True,\n",
    "    drop_cold_users=True,\n",
    ")\n",
    "\n",
    "train, test = train_spl.split(only_positives_log)\n",
    "print('train info:\\n', get_log_info(train))\n",
    "print('test info:\\n', get_log_info(test))\n",
    "train = train.withColumn('relevance', sf.lit(1))\n",
    "test = test.withColumn('relevance', sf.lit(1))"
   ]
  },
  {
   "cell_type": "code",
   "execution_count": 9,
   "id": "84fb9534-a6bf-4a1f-b67b-e612e3cf15c0",
   "metadata": {
    "pycharm": {
     "name": "#%%\n"
    }
   },
   "outputs": [],
   "source": [
    "train = train.cache()\n",
    "test = test.cache()\n",
    "train.write.mode('overwrite').format('noop').save()\n",
    "test.write.mode('overwrite').format('noop').save()"
   ]
  },
  {
   "cell_type": "code",
   "execution_count": 10,
   "id": "9a2eecc3-cf97-4d65-b6dc-0133219cbaff",
   "metadata": {
    "pycharm": {
     "name": "#%%\n"
    }
   },
   "outputs": [],
   "source": [
    "prediction_quality = Experiment(\n",
    "    test, \n",
    "    {\n",
    "        NDCG(): [5, 10, 25, 100, 500, 1000],  \n",
    "        MAP(): [5, 10, 25, 100, 500, 1000],\n",
    "        HitRate(): [5, 10, 25, 100, 500, 1000],\n",
    "        Precision(): [5, 10, 25, 100, 500, 1000]\n",
    "    },\n",
    ")\n"
   ]
  },
  {
   "cell_type": "code",
   "execution_count": 11,
   "id": "0b9078b0-252f-4818-8b2b-97641907a9d3",
   "metadata": {
    "pycharm": {
     "name": "#%%\n"
    }
   },
   "outputs": [],
   "source": [
    "train_repartitioned = train.repartition(cores, \"user_idx\")"
   ]
  },
  {
   "cell_type": "code",
   "execution_count": 12,
   "id": "c86c03a4-1f6f-4361-9202-ff6197abef74",
   "metadata": {
    "pycharm": {
     "name": "#%%\n"
    }
   },
   "outputs": [],
   "source": [
    "model = LightFM(loss='warp', random_state=22, max_sampled=100, learning_rate=0.05)"
   ]
  },
  {
   "cell_type": "code",
   "execution_count": 14,
   "id": "6b3bec75-2214-4bf6-affa-37fe2df444fa",
   "metadata": {
    "pycharm": {
     "name": "#%%\n"
    }
   },
   "outputs": [],
   "source": [
    "from spark_gloo_lightfm import LightFMGlooWrap\n",
    "lightfm_wrap = LightFMGlooWrap(\n",
    "    model=model, \n",
    "    world_size=cores,\n",
    "    use_spark=True,\n",
    ")"
   ]
  },
  {
   "cell_type": "code",
   "execution_count": 15,
   "id": "20c3e447-215f-4ffc-a21b-4cf4130063cd",
   "metadata": {
    "pycharm": {
     "name": "#%%\n"
    }
   },
   "outputs": [
    {
     "name": "stdout",
     "output_type": "stream",
     "text": [
      "Spark executors launched\n",
      "CPU times: user 70.6 ms, sys: 45 ms, total: 116 ms\n",
      "Wall time: 2min 42s\n"
     ]
    }
   ],
   "source": [
    "%%time\n",
    "wrapper = lightfm_wrap.fit_partial(train_repartitioned, verbose=True, epochs=30)"
   ]
  },
  {
   "cell_type": "code",
   "execution_count": 22,
   "id": "428ca8b4-afc5-4438-8ca2-71b41956f5f8",
   "metadata": {
    "pycharm": {
     "name": "#%%\n"
    }
   },
   "outputs": [],
   "source": [
    "pandas_log = train.toPandas().copy()\n",
    "items_count = pandas_log['item_idx'].max() + 1\n",
    "\n",
    "interactions_matrix_sparse = csr_matrix(\n",
    "    (pandas_log.relevance, (pandas_log.user_idx, pandas_log.item_idx)),\n",
    "    shape=(pandas_log['user_idx'].max() + 1, items_count),\n",
    "    )"
   ]
  },
  {
   "cell_type": "code",
   "execution_count": 23,
   "id": "4629aa1e-7404-4b03-a22e-365172b2fcc3",
   "metadata": {
    "pycharm": {
     "name": "#%%\n"
    }
   },
   "outputs": [],
   "source": [
    "pandas_log_test = test.toPandas().copy()\n",
    "\n",
    "interactions_matrix_sparse_test = csr_matrix(\n",
    "    (pandas_log_test.relevance, (pandas_log_test.user_idx, pandas_log_test.item_idx)),\n",
    "    shape=(pandas_log['user_idx'].max() + 1, items_count),\n",
    "    )"
   ]
  },
  {
   "cell_type": "code",
   "execution_count": 24,
   "id": "a792bb1a-ac14-49b2-83c8-d83ac3a8f9a5",
   "metadata": {
    "pycharm": {
     "name": "#%%\n"
    }
   },
   "outputs": [],
   "source": [
    "train_matrix = interactions_matrix_sparse.tocoo()\n",
    "test_matrix = interactions_matrix_sparse_test.tocoo()"
   ]
  },
  {
   "cell_type": "code",
   "execution_count": 26,
   "id": "00766285-f1a7-4b7c-bc26-e4909f7f91e6",
   "metadata": {
    "pycharm": {
     "name": "#%%\n"
    }
   },
   "outputs": [
    {
     "data": {
      "text/plain": [
       "0.24585305"
      ]
     },
     "execution_count": 26,
     "metadata": {},
     "output_type": "execute_result"
    }
   ],
   "source": [
    "print(precision_at_k(wrapper.model, test_matrix, train_interactions=train_matrix, k=5).mean())\n",
    "print(precision_at_k(wrapper.model, test_matrix, train_interactions=train_matrix, k=10).mean())"
   ]
  },
  {
   "cell_type": "code",
   "execution_count": 28,
   "id": "9a68501d-d27a-4c63-8e10-b65b08a44e74",
   "metadata": {
    "pycharm": {
     "name": "#%%\n"
    }
   },
   "outputs": [],
   "source": [
    "test_pairs = test.select('user_idx').distinct().crossJoin(train.select('item_idx').distinct())"
   ]
  },
  {
   "cell_type": "code",
   "execution_count": 29,
   "id": "a6087e84-8d9d-4d0c-8196-256db9d0d2b5",
   "metadata": {
    "pycharm": {
     "name": "#%%\n"
    }
   },
   "outputs": [],
   "source": [
    "filtered_test = test_pairs.join(\n",
    "    train, \n",
    "    [test_pairs.user_idx == train.user_idx, test_pairs.item_idx == train.item_idx], \n",
    "    \"leftanti\"\n",
    ")"
   ]
  },
  {
   "cell_type": "code",
   "execution_count": 39,
   "id": "0c063340-1c95-46f0-86da-07930176994a",
   "metadata": {
    "pycharm": {
     "name": "#%%\n"
    }
   },
   "outputs": [],
   "source": [
    "filtered_test_pd = filtered_test.toPandas()"
   ]
  },
  {
   "cell_type": "code",
   "execution_count": 40,
   "id": "b08726f0-8815-4d20-bec6-270300b57a5c",
   "metadata": {
    "pycharm": {
     "name": "#%%\n"
    }
   },
   "outputs": [],
   "source": [
    "filtered_test_pd[\"relevance\"] = wrapper.model.predict(\n",
    "        user_ids=filtered_test_pd[\"user_idx\"].to_numpy(),\n",
    "        item_ids=filtered_test_pd[\"item_idx\"].to_numpy(),\n",
    "        num_threads=40,\n",
    ")"
   ]
  },
  {
   "cell_type": "code",
   "execution_count": 41,
   "id": "e869494e-38d4-4c24-863f-82d7cdbd4a7e",
   "metadata": {
    "pycharm": {
     "name": "#%%\n"
    }
   },
   "outputs": [
    {
     "data": {
      "text/html": [
       "<div>\n",
       "<style scoped>\n",
       "    .dataframe tbody tr th:only-of-type {\n",
       "        vertical-align: middle;\n",
       "    }\n",
       "\n",
       "    .dataframe tbody tr th {\n",
       "        vertical-align: top;\n",
       "    }\n",
       "\n",
       "    .dataframe thead th {\n",
       "        text-align: right;\n",
       "    }\n",
       "</style>\n",
       "<table border=\"1\" class=\"dataframe\">\n",
       "  <thead>\n",
       "    <tr style=\"text-align: right;\">\n",
       "      <th></th>\n",
       "      <th>user_idx</th>\n",
       "      <th>item_idx</th>\n",
       "      <th>relevance</th>\n",
       "    </tr>\n",
       "  </thead>\n",
       "  <tbody>\n",
       "    <tr>\n",
       "      <th>0</th>\n",
       "      <td>3</td>\n",
       "      <td>36</td>\n",
       "      <td>-1.255437</td>\n",
       "    </tr>\n",
       "    <tr>\n",
       "      <th>1</th>\n",
       "      <td>3</td>\n",
       "      <td>47</td>\n",
       "      <td>-0.742236</td>\n",
       "    </tr>\n",
       "    <tr>\n",
       "      <th>2</th>\n",
       "      <td>3</td>\n",
       "      <td>74</td>\n",
       "      <td>-3.778671</td>\n",
       "    </tr>\n",
       "  </tbody>\n",
       "</table>\n",
       "</div>"
      ],
      "text/plain": [
       "   user_idx  item_idx  relevance\n",
       "0         3        36  -1.255437\n",
       "1         3        47  -0.742236\n",
       "2         3        74  -3.778671"
      ]
     },
     "execution_count": 41,
     "metadata": {},
     "output_type": "execute_result"
    }
   ],
   "source": [
    "filtered_test_pd.head(3)"
   ]
  },
  {
   "cell_type": "code",
   "execution_count": 35,
   "id": "d7bb87d0-dfa0-42e5-a6cb-cb38aa3b7ccb",
   "metadata": {
    "pycharm": {
     "name": "#%%\n"
    }
   },
   "outputs": [],
   "source": [
    "prediction_quality.add_result('warp', filtered_test_pd)"
   ]
  },
  {
   "cell_type": "code",
   "execution_count": 37,
   "id": "50081804-9713-42da-b93e-4525a99a6196",
   "metadata": {
    "pycharm": {
     "name": "#%%\n"
    }
   },
   "outputs": [
    {
     "data": {
      "text/html": [
       "<div>\n",
       "<style scoped>\n",
       "    .dataframe tbody tr th:only-of-type {\n",
       "        vertical-align: middle;\n",
       "    }\n",
       "\n",
       "    .dataframe tbody tr th {\n",
       "        vertical-align: top;\n",
       "    }\n",
       "\n",
       "    .dataframe thead th {\n",
       "        text-align: right;\n",
       "    }\n",
       "</style>\n",
       "<table border=\"1\" class=\"dataframe\">\n",
       "  <thead>\n",
       "    <tr style=\"text-align: right;\">\n",
       "      <th></th>\n",
       "      <th>HitRate@5</th>\n",
       "      <th>HitRate@10</th>\n",
       "      <th>HitRate@25</th>\n",
       "      <th>HitRate@100</th>\n",
       "      <th>HitRate@500</th>\n",
       "      <th>HitRate@1000</th>\n",
       "      <th>MAP@5</th>\n",
       "      <th>MAP@10</th>\n",
       "      <th>MAP@25</th>\n",
       "      <th>MAP@100</th>\n",
       "      <th>...</th>\n",
       "      <th>NDCG@25</th>\n",
       "      <th>NDCG@100</th>\n",
       "      <th>NDCG@500</th>\n",
       "      <th>NDCG@1000</th>\n",
       "      <th>Precision@5</th>\n",
       "      <th>Precision@10</th>\n",
       "      <th>Precision@25</th>\n",
       "      <th>Precision@100</th>\n",
       "      <th>Precision@500</th>\n",
       "      <th>Precision@1000</th>\n",
       "    </tr>\n",
       "  </thead>\n",
       "  <tbody>\n",
       "    <tr>\n",
       "      <th>warp</th>\n",
       "      <td>0.535793</td>\n",
       "      <td>0.637023</td>\n",
       "      <td>0.752129</td>\n",
       "      <td>0.867865</td>\n",
       "      <td>0.950489</td>\n",
       "      <td>0.96878</td>\n",
       "      <td>0.192501</td>\n",
       "      <td>0.155537</td>\n",
       "      <td>0.115584</td>\n",
       "      <td>0.085876</td>\n",
       "      <td>...</td>\n",
       "      <td>0.216831</td>\n",
       "      <td>0.21959</td>\n",
       "      <td>0.326185</td>\n",
       "      <td>0.385131</td>\n",
       "      <td>0.245853</td>\n",
       "      <td>0.221823</td>\n",
       "      <td>0.183828</td>\n",
       "      <td>0.123929</td>\n",
       "      <td>0.062426</td>\n",
       "      <td>0.041921</td>\n",
       "    </tr>\n",
       "  </tbody>\n",
       "</table>\n",
       "<p>1 rows × 24 columns</p>\n",
       "</div>"
      ],
      "text/plain": [
       "      HitRate@5  HitRate@10  HitRate@25  HitRate@100  HitRate@500  \\\n",
       "warp   0.535793    0.637023    0.752129     0.867865     0.950489   \n",
       "\n",
       "      HitRate@1000     MAP@5    MAP@10    MAP@25   MAP@100  ...   NDCG@25  \\\n",
       "warp       0.96878  0.192501  0.155537  0.115584  0.085876  ...  0.216831   \n",
       "\n",
       "      NDCG@100  NDCG@500  NDCG@1000  Precision@5  Precision@10  Precision@25  \\\n",
       "warp   0.21959  0.326185   0.385131     0.245853      0.221823      0.183828   \n",
       "\n",
       "      Precision@100  Precision@500  Precision@1000  \n",
       "warp       0.123929       0.062426        0.041921  \n",
       "\n",
       "[1 rows x 24 columns]"
      ]
     },
     "execution_count": 37,
     "metadata": {},
     "output_type": "execute_result"
    }
   ],
   "source": [
    "prediction_quality.results"
   ]
  },
  {
   "cell_type": "code",
   "execution_count": null,
   "id": "d4684a99-8203-4538-b78a-a9b672f5ac9b",
   "metadata": {
    "pycharm": {
     "name": "#%%\n"
    }
   },
   "outputs": [],
   "source": []
  }
 ],
 "metadata": {
  "kernelspec": {
   "display_name": "lightfm-gloo",
   "language": "python",
   "name": "lightfm-gloo"
  },
  "language_info": {
   "codemirror_mode": {
    "name": "ipython",
    "version": 3
   },
   "file_extension": ".py",
   "mimetype": "text/x-python",
   "name": "python",
   "nbconvert_exporter": "python",
   "pygments_lexer": "ipython3",
   "version": "3.8.16"
  }
 },
 "nbformat": 4,
 "nbformat_minor": 5
}