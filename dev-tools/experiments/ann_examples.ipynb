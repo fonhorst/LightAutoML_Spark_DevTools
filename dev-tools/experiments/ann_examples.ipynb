{
 "cells": [
  {
   "cell_type": "code",
   "execution_count": 1,
   "id": "a10e57c1-8908-4c37-b5b1-0cc3fe3a5003",
   "metadata": {},
   "outputs": [],
   "source": [
    "import os\n",
    "\n",
    "os.environ[\"PYSPARK_PYTHON\"]=\"/home/jovyan/notebooks/env39/bin/python3.9\""
   ]
  },
  {
   "cell_type": "code",
   "execution_count": 2,
   "id": "404e8985-e3fa-4d58-bda9-e940cd483cd7",
   "metadata": {},
   "outputs": [
    {
     "name": "stderr",
     "output_type": "stream",
     "text": [
      "/home/jovyan/notebooks/env39/lib/python3.9/site-packages/tqdm/auto.py:22: TqdmWarning: IProgress not found. Please update jupyter and ipywidgets. See https://ipywidgets.readthedocs.io/en/stable/user_install.html\n",
      "  from .autonotebook import tqdm as notebook_tqdm\n"
     ]
    },
    {
     "data": {
      "text/html": [
       "<style type='text/css'>\n",
       ".datatable table.frame { margin-bottom: 0; }\n",
       ".datatable table.frame thead { border-bottom: none; }\n",
       ".datatable table.frame tr.coltypes td {  color: #FFFFFF;  line-height: 6px;  padding: 0 0.5em;}\n",
       ".datatable .bool    { background: #DDDD99; }\n",
       ".datatable .object  { background: #565656; }\n",
       ".datatable .int     { background: #5D9E5D; }\n",
       ".datatable .float   { background: #4040CC; }\n",
       ".datatable .str     { background: #CC4040; }\n",
       ".datatable .time    { background: #40CC40; }\n",
       ".datatable .row_index {  background: var(--jp-border-color3);  border-right: 1px solid var(--jp-border-color0);  color: var(--jp-ui-font-color3);  font-size: 9px;}\n",
       ".datatable .frame tbody td { text-align: left; }\n",
       ".datatable .frame tr.coltypes .row_index {  background: var(--jp-border-color0);}\n",
       ".datatable th:nth-child(2) { padding-left: 12px; }\n",
       ".datatable .hellipsis {  color: var(--jp-cell-editor-border-color);}\n",
       ".datatable .vellipsis {  background: var(--jp-layout-color0);  color: var(--jp-cell-editor-border-color);}\n",
       ".datatable .na {  color: var(--jp-cell-editor-border-color);  font-size: 80%;}\n",
       ".datatable .sp {  opacity: 0.25;}\n",
       ".datatable .footer { font-size: 9px; }\n",
       ".datatable .frame_dimensions {  background: var(--jp-border-color3);  border-top: 1px solid var(--jp-border-color0);  color: var(--jp-ui-font-color3);  display: inline-block;  opacity: 0.6;  padding: 1px 10px 1px 5px;}\n",
       "</style>\n"
      ],
      "text/plain": [
       "<IPython.core.display.HTML object>"
      ]
     },
     "metadata": {},
     "output_type": "display_data"
    }
   ],
   "source": [
    "import numpy as np\n",
    "import pandas as pd\n",
    "import nmslib\n",
    "import scann\n",
    "\n",
    "from pyspark.sql import functions as sf, types as st, SparkSession, Window\n",
    "from pyspark.ml.feature import BucketedRandomProjectionLSH\n",
    "from pyspark.ml.linalg import Vectors, VectorUDT\n",
    "from pyspark.sql.functions import udf\n",
    "from pyspark.ml.linalg import DenseVector\n",
    "from pyspark.ml.feature import IndexToString, StringIndexer\n",
    "from replay.session_handler import State\n",
    "from replay.data_preparator import DataPreparator\n",
    "from replay.splitters import DateSplitter\n",
    "from replay.utils import get_log_info, get_top_k_recs\n",
    "from replay.models import ALSWrap\n",
    "from replay.model_handler import save, load\n",
    "from replay.metrics import Coverage, HitRate, NDCG, MAP, Precision\n",
    "from replay.experiment import Experiment\n",
    "from rs_datasets import MillionSongDataset, MovieLens"
   ]
  },
  {
   "cell_type": "code",
   "execution_count": 3,
   "id": "9a26e890-5022-48bb-a25b-04f335e9b6ff",
   "metadata": {},
   "outputs": [],
   "source": [
    "spark_sess = (\n",
    "    SparkSession\n",
    "        .builder\n",
    "        .master(\"local[6]\")\n",
    "        .config(\"spark.serializer\", \"org.apache.spark.serializer.KryoSerializer\")\n",
    "        .config(\"spark.kryoserializer.buffer.max\", \"512m\")\n",
    "        .config(\"spark.driver.memory\", \"64g\")\n",
    "        .config(\"spark.executor.memory\", \"64g\")\n",
    "        .config(\"spark.sql.execution.arrow.pyspark.enabled\", \"true\")\n",
    "        .config(\"spark.local.dir\", \"/tmp\")\n",
    "        .getOrCreate()\n",
    ")\n",
    "\n",
    "spark = State(spark_sess).session\n",
    "spark.sparkContext.setLogLevel(\"ERROR\")"
   ]
  },
  {
   "cell_type": "code",
   "execution_count": 4,
   "id": "7d1597ed-c2cd-4d0f-b3ee-d7994ddebb54",
   "metadata": {},
   "outputs": [],
   "source": [
    "cores=6\n",
    "K = 5\n",
    "SEED=1234"
   ]
  },
  {
   "cell_type": "code",
   "execution_count": 5,
   "id": "594a285e-64e2-4dd8-92cb-25813f95b37a",
   "metadata": {},
   "outputs": [
    {
     "name": "stdout",
     "output_type": "stream",
     "text": [
      "CPU times: user 4.39 s, sys: 192 ms, total: 4.58 s\n",
      "Wall time: 468 ms\n"
     ]
    }
   ],
   "source": [
    "%%time\n",
    "# msd = MillionSongDataset()\n",
    "data = MovieLens(\"1m\")"
   ]
  },
  {
   "cell_type": "code",
   "execution_count": 6,
   "id": "2f7cf002-2383-4fcc-9fbc-37048170ab74",
   "metadata": {},
   "outputs": [
    {
     "name": "stdout",
     "output_type": "stream",
     "text": [
      "total lines: 1000209, total users: 6040, total items: 3706\n"
     ]
    }
   ],
   "source": [
    "preparator = DataPreparator()\n",
    "log, _, _ = preparator(data.ratings, mapping={\"relevance\": \"rating\"})#, \"user_id\": \"user_idx\", \"item_id\": \"item_idx\"})\n",
    "print(get_log_info(log))"
   ]
  },
  {
   "cell_type": "code",
   "execution_count": 7,
   "id": "a527710c-89da-4f65-8ceb-31a1ce894279",
   "metadata": {},
   "outputs": [],
   "source": [
    "log = log.repartition(cores).cache()\n",
    "log.write.mode('overwrite').format('noop').save()"
   ]
  },
  {
   "cell_type": "code",
   "execution_count": 8,
   "id": "a80924a0-efbc-4424-b978-a9f7da4b2c83",
   "metadata": {},
   "outputs": [],
   "source": [
    "only_positives_log = log.filter(sf.col('relevance') >= 3).withColumn('relevance', sf.lit(1))"
   ]
  },
  {
   "cell_type": "code",
   "execution_count": 9,
   "id": "3685214f-df9a-4511-ac14-d50a4e50c844",
   "metadata": {},
   "outputs": [
    {
     "name": "stdout",
     "output_type": "stream",
     "text": [
      "train info:\n",
      " total lines: 669181, total users: 5397, total items: 3569\n",
      "test info:\n",
      " total lines: 86542, total users: 1139, total items: 3279\n"
     ]
    }
   ],
   "source": [
    "# train/test split \n",
    "train_spl = DateSplitter(\n",
    "    test_start=0.2,\n",
    "    drop_cold_items=True,\n",
    "    drop_cold_users=True,\n",
    ")\n",
    "train, test = train_spl.split(only_positives_log)\n",
    "print('train info:\\n', get_log_info(train))\n",
    "print('test info:\\n', get_log_info(test))"
   ]
  },
  {
   "cell_type": "code",
   "execution_count": 10,
   "id": "a5669dae-7e62-47d1-b1e6-2c4f5e2a5989",
   "metadata": {},
   "outputs": [],
   "source": [
    "train = train.repartition(cores).cache()\n",
    "test = test.repartition(cores).cache()\n",
    "train.write.mode('overwrite').format('noop').save()\n",
    "test.write.mode('overwrite').format('noop').save()"
   ]
  },
  {
   "cell_type": "markdown",
   "id": "0ad59bc2-a47d-48b2-b39b-8c6bd4fb1c54",
   "metadata": {},
   "source": [
    "## 1. ALS model training"
   ]
  },
  {
   "cell_type": "code",
   "execution_count": 11,
   "id": "a7ffcebf-d630-48be-b233-43ee55fbd295",
   "metadata": {},
   "outputs": [
    {
     "name": "stdout",
     "output_type": "stream",
     "text": [
      "CPU times: user 26.5 ms, sys: 10.8 ms, total: 37.3 ms\n",
      "Wall time: 2min 6s\n"
     ]
    }
   ],
   "source": [
    "%%time\n",
    "als = ALSWrap(rank=256, seed=SEED)\n",
    "als.fit(log=train)"
   ]
  },
  {
   "cell_type": "code",
   "execution_count": 12,
   "id": "bd34faac-e4ab-427d-8382-461d3a291b36",
   "metadata": {},
   "outputs": [],
   "source": [
    "save(als, '/tmp/als_ml1m')\n",
    "als = load('/tmp/als_ml1m')"
   ]
  },
  {
   "cell_type": "code",
   "execution_count": 13,
   "id": "77a41240-260c-43fd-a303-1137cd5e9240",
   "metadata": {},
   "outputs": [],
   "source": [
    "import time\n",
    "def exec_time(start, end):\n",
    "    diff_time = end - start\n",
    "    return round(diff_time, 4)\n",
    "\n",
    "time_dict = {}\n",
    "index_time_dict = {}\n",
    "index_time_dict['ALS'] = 0"
   ]
  },
  {
   "cell_type": "code",
   "execution_count": 14,
   "id": "1b9dcfe4-a6d7-408e-bac5-4ddd9be609ac",
   "metadata": {},
   "outputs": [
    {
     "name": "stderr",
     "output_type": "stream",
     "text": [
      "12-Oct-22 11:20:25, replay, WARNING: This model can't predict cold users, they will be ignored\n",
      "12-Oct-22 11:20:25, replay, WARNING: This model can't predict cold items, they will be ignored\n",
      "12-Oct-22 11:20:25, replay, WARNING: This model can't predict cold users, they will be ignored\n",
      "12-Oct-22 11:20:25, replay, WARNING: This model can't predict cold items, they will be ignored\n"
     ]
    },
    {
     "name": "stdout",
     "output_type": "stream",
     "text": [
      "CPU times: user 46 ms, sys: 12.9 ms, total: 58.9 ms\n",
      "Wall time: 3min 22s\n"
     ]
    }
   ],
   "source": [
    "%%time\n",
    "start = time.time()\n",
    "predict = als.predict(log=train, k=K, users=test.select('user_idx').distinct(), filter_seen_items=True)\n",
    "predict = predict.cache()\n",
    "predict.count()\n",
    "end = time.time()\n",
    "time_dict['ALS'] = exec_time(start,end)"
   ]
  },
  {
   "cell_type": "markdown",
   "id": "6c4f76cc-7c99-4455-a63a-64fa0bfb77ba",
   "metadata": {},
   "source": [
    "### 2. Evaluate prediction quality"
   ]
  },
  {
   "cell_type": "code",
   "execution_count": 15,
   "id": "da561f4e-a7cd-4cc5-9904-aac4e35be5f1",
   "metadata": {},
   "outputs": [],
   "source": [
    "prediction_quality = Experiment(test, {NDCG(): K,\n",
    "                            MAP() : K,\n",
    "                            HitRate(): [1, K],\n",
    "                           })"
   ]
  },
  {
   "cell_type": "code",
   "execution_count": 16,
   "id": "3a2f1fb5-ff2a-45d7-ae6f-d0bef7f9a945",
   "metadata": {},
   "outputs": [
    {
     "name": "stdout",
     "output_type": "stream",
     "text": [
      "CPU times: user 78.7 ms, sys: 33.8 ms, total: 112 ms\n",
      "Wall time: 17.8 s\n"
     ]
    },
    {
     "data": {
      "text/html": [
       "<div>\n",
       "<style scoped>\n",
       "    .dataframe tbody tr th:only-of-type {\n",
       "        vertical-align: middle;\n",
       "    }\n",
       "\n",
       "    .dataframe tbody tr th {\n",
       "        vertical-align: top;\n",
       "    }\n",
       "\n",
       "    .dataframe thead th {\n",
       "        text-align: right;\n",
       "    }\n",
       "</style>\n",
       "<table border=\"1\" class=\"dataframe\">\n",
       "  <thead>\n",
       "    <tr style=\"text-align: right;\">\n",
       "      <th></th>\n",
       "      <th>HitRate@1</th>\n",
       "      <th>HitRate@5</th>\n",
       "      <th>MAP@5</th>\n",
       "      <th>NDCG@5</th>\n",
       "    </tr>\n",
       "  </thead>\n",
       "  <tbody>\n",
       "    <tr>\n",
       "      <th>ALS</th>\n",
       "      <td>0.279192</td>\n",
       "      <td>0.56014</td>\n",
       "      <td>0.179415</td>\n",
       "      <td>0.251115</td>\n",
       "    </tr>\n",
       "  </tbody>\n",
       "</table>\n",
       "</div>"
      ],
      "text/plain": [
       "     HitRate@1  HitRate@5     MAP@5    NDCG@5\n",
       "ALS   0.279192    0.56014  0.179415  0.251115"
      ]
     },
     "execution_count": 16,
     "metadata": {},
     "output_type": "execute_result"
    }
   ],
   "source": [
    "%%time\n",
    "prediction_quality.add_result(\"ALS\", predict)\n",
    "prediction_quality.results.sort_values('NDCG@5', ascending=False)"
   ]
  },
  {
   "cell_type": "markdown",
   "id": "ae134095-c8f0-47cc-a7b4-dfe91c03c9b2",
   "metadata": {},
   "source": [
    "### 3. Get features from ALS"
   ]
  },
  {
   "cell_type": "code",
   "execution_count": 17,
   "id": "e1f7a4af-7abc-41d3-85f5-f448f17bbe73",
   "metadata": {},
   "outputs": [],
   "source": [
    "def get_numpy_ids_vectors_from_als(id_vector_spark_df, id_name='item_id', vector_col_name='item_factors'):\n",
    "    vectors = id_vector_spark_df.toPandas()\n",
    "    ids = vectors[id_name].to_numpy()\n",
    "    vectors = vectors[vector_col_name].to_numpy()\n",
    "    return vectors, ids"
   ]
  },
  {
   "cell_type": "code",
   "execution_count": 18,
   "id": "7cba848e-59f3-4d8a-91bf-7a748706384a",
   "metadata": {},
   "outputs": [
    {
     "name": "stdout",
     "output_type": "stream",
     "text": [
      "CPU times: user 6.85 ms, sys: 4.93 ms, total: 11.8 ms\n",
      "Wall time: 299 ms\n"
     ]
    }
   ],
   "source": [
    "%%time\n",
    "user_vectors, _ = als.get_features(test.select('user_idx').distinct())\n",
    "user_vectors_np, user_ids_np = get_numpy_ids_vectors_from_als(user_vectors, id_name='user_idx', vector_col_name='user_factors')"
   ]
  },
  {
   "cell_type": "code",
   "execution_count": 19,
   "id": "fd783554-f8e7-4a04-a803-73643cc4117d",
   "metadata": {},
   "outputs": [
    {
     "name": "stdout",
     "output_type": "stream",
     "text": [
      "CPU times: user 16.2 ms, sys: 5.1 ms, total: 21.3 ms\n",
      "Wall time: 266 ms\n"
     ]
    }
   ],
   "source": [
    "%%time\n",
    "item_vectors, _ = als.get_features(train.select('item_idx').distinct())\n",
    "item_vectors_np, item_ids_np = get_numpy_ids_vectors_from_als(item_vectors, id_name='item_idx', vector_col_name='item_factors')"
   ]
  },
  {
   "cell_type": "markdown",
   "id": "6fc3c93d-c267-4cee-9bac-4d9b8effdcf8",
   "metadata": {},
   "source": [
    "### index with default parameters\n"
   ]
  },
  {
   "cell_type": "markdown",
   "id": "a1b2b565-0ae6-4263-a901-b7cffd7dad9b",
   "metadata": {},
   "source": [
    "##### Using hnsw index from nmslib as is"
   ]
  },
  {
   "cell_type": "code",
   "execution_count": 20,
   "id": "d687a329-861c-42dd-9d33-23233d94a091",
   "metadata": {},
   "outputs": [
    {
     "name": "stdout",
     "output_type": "stream",
     "text": [
      "CPU times: user 1.36 s, sys: 108 ms, total: 1.47 s\n",
      "Wall time: 162 ms\n"
     ]
    }
   ],
   "source": [
    "%%time\n",
    "start = time.time()\n",
    "index = nmslib.init(method='hnsw', space='negdotprod', data_type=nmslib.DataType.DENSE_VECTOR)\n",
    "index.addDataPointBatch(data=np.stack(item_vectors_np))\n",
    "index.createIndex()\n",
    "end = time.time()\n",
    "index_time_dict['HNSW'] = exec_time(start,end)"
   ]
  },
  {
   "cell_type": "code",
   "execution_count": 21,
   "id": "62e36b72-e0df-41c8-84e7-90bb1b618155",
   "metadata": {},
   "outputs": [],
   "source": [
    "def get_neighbours(index, vectors, user_ids_list, item_ids_list, k):\n",
    "    \"\"\"\n",
    "    - find nearest items based on user vector\n",
    "    - convert to spark and process columns to get `user_id, item_id, relevance` columns\n",
    "    - replace item numbers in index with item ids\n",
    "    \"\"\"\n",
    "    neighbours = index.knnQueryBatch(np.stack(vectors), k=k)\n",
    "    pd_res = pd.DataFrame(neighbours, columns=['item_idx', 'distance'])\n",
    "    pd_res['user_idx'] = user_ids_list\n",
    "    spark_res = spark.createDataFrame(pd_res)\n",
    "    spark_res = spark_res.withColumn('zip_exp', sf.explode(sf.arrays_zip('item_idx', 'distance'))).select('user_idx', 'zip_exp')\n",
    "    spark_res = spark_res.withColumn('item_idx', sf.col('zip_exp.item_idx'))\n",
    "    spark_res = spark_res.withColumn('distance', sf.col('zip_exp.distance'))\n",
    "    spark_res = (spark_res.withColumn('relevance',  sf.lit(-1.) * sf.col('distance'))\n",
    "                 .select('user_idx', 'item_idx', 'relevance')\n",
    "                )\n",
    "    # ids_mapping = spark.createDataFrame(list(zip(range(len(list(item_ids_list))),\n",
    "    #                                              list(item_ids_list))),\n",
    "    #                                     schema=\"item_idx int, item_id string\")\n",
    "    ids_mapping = pd.DataFrame(list(zip(range(len(list(item_ids_list))),\n",
    "                                                 list(item_ids_list))), columns = ['item_idx', 'item_id'])\n",
    "    ids_mapping = spark.createDataFrame(ids_mapping)\n",
    "    # return ids_mapping\n",
    "    spark_res = spark_res.join(ids_mapping, on='item_idx').drop('item_idx').orderBy('user_idx')\n",
    "    \n",
    "    def withColumnRenamed(existingName, newName): DataFrame\n",
    "    spark_res = spark_res.withColumnRenamed(\"item_id\",\"item_idx\")\n",
    "\n",
    "    \n",
    "    \n",
    "    return spark_res"
   ]
  },
  {
   "cell_type": "code",
   "execution_count": 22,
   "id": "62729b1d-3a6f-439f-a601-eb2b78ea2a72",
   "metadata": {},
   "outputs": [],
   "source": [
    "def filter_seen(log, pred, k, id_type='idx'):\n",
    "    \"\"\"\n",
    "    filter items seen in log and leave top-k most relevant\n",
    "    \"\"\"\n",
    "    \n",
    "    user_id = 'user_' + id_type\n",
    "    item_id = 'item_' + id_type\n",
    "    num_of_seen = (\n",
    "            log.groupBy(user_id)\n",
    "            .agg(sf.count(item_id).alias(\"seen_count\"))\n",
    "        )\n",
    "\n",
    "\n",
    "    max_seen = num_of_seen.select(sf.max(\"seen_count\")).collect()[0][0]\n",
    "\n",
    "    recs = pred.withColumn(\n",
    "        \"temp_rank\",\n",
    "        sf.row_number().over(\n",
    "            Window.partitionBy(user_id).orderBy(\n",
    "                sf.col(\"relevance\").desc()\n",
    "            )\n",
    "        ),\n",
    "    ).filter(sf.col(\"temp_rank\") <= sf.lit(max_seen + k))\n",
    "    \n",
    "\n",
    "    \n",
    "    recs = (\n",
    "        recs.join(num_of_seen, on=user_id, how=\"left\")\n",
    "        .fillna(0)\n",
    "        .filter(\n",
    "            sf.col(\"temp_rank\") <= sf.col(\"seen_count\") + sf.lit(k)\n",
    "        )\n",
    "        .drop(\"temp_rank\", \"seen_count\")\n",
    "    )\n",
    "    \n",
    "    recs = recs.join(log, on=[user_id, item_id], how=\"anti\")\n",
    "    return get_top_k_recs(recs, k, id_type=id_type)"
   ]
  },
  {
   "cell_type": "code",
   "execution_count": 23,
   "id": "c81be5bc-a4b5-4449-b149-06833c37fb36",
   "metadata": {},
   "outputs": [],
   "source": [
    "max_items_to_retrieve = train.groupBy('user_idx').agg(sf.count('item_idx').alias('num_items')).select(sf.max('num_items')).collect()[0][0]"
   ]
  },
  {
   "cell_type": "code",
   "execution_count": 24,
   "id": "a5cb1ebf-149c-4b01-9e46-17f3ca964f9e",
   "metadata": {},
   "outputs": [
    {
     "name": "stdout",
     "output_type": "stream",
     "text": [
      "CPU times: user 124 ms, sys: 26.7 ms, total: 150 ms\n",
      "Wall time: 3.61 s\n"
     ]
    }
   ],
   "source": [
    "%%time\n",
    "start = time.time()\n",
    "ann_res = get_neighbours(index, user_vectors_np, user_ids_np, item_ids_np, K + max_items_to_retrieve)\n",
    "ann_res = filter_seen(train, ann_res, K)\n",
    "ann_res = ann_res.cache()\n",
    "ann_res.count()\n",
    "end = time.time()\n",
    "time_dict['HNSW'] = exec_time(start,end)"
   ]
  },
  {
   "cell_type": "code",
   "execution_count": 25,
   "id": "6292cecc-c270-45f9-8488-d68218649f8c",
   "metadata": {},
   "outputs": [
    {
     "name": "stdout",
     "output_type": "stream",
     "text": [
      "CPU times: user 82.1 ms, sys: 25.8 ms, total: 108 ms\n",
      "Wall time: 9.69 s\n"
     ]
    },
    {
     "data": {
      "text/html": [
       "<div>\n",
       "<style scoped>\n",
       "    .dataframe tbody tr th:only-of-type {\n",
       "        vertical-align: middle;\n",
       "    }\n",
       "\n",
       "    .dataframe tbody tr th {\n",
       "        vertical-align: top;\n",
       "    }\n",
       "\n",
       "    .dataframe thead th {\n",
       "        text-align: right;\n",
       "    }\n",
       "</style>\n",
       "<table border=\"1\" class=\"dataframe\">\n",
       "  <thead>\n",
       "    <tr style=\"text-align: right;\">\n",
       "      <th></th>\n",
       "      <th>HitRate@1</th>\n",
       "      <th>HitRate@5</th>\n",
       "      <th>MAP@5</th>\n",
       "      <th>NDCG@5</th>\n",
       "    </tr>\n",
       "  </thead>\n",
       "  <tbody>\n",
       "    <tr>\n",
       "      <th>HNSW</th>\n",
       "      <td>0.280948</td>\n",
       "      <td>0.561018</td>\n",
       "      <td>0.180984</td>\n",
       "      <td>0.252473</td>\n",
       "    </tr>\n",
       "    <tr>\n",
       "      <th>ALS</th>\n",
       "      <td>0.279192</td>\n",
       "      <td>0.560140</td>\n",
       "      <td>0.179415</td>\n",
       "      <td>0.251115</td>\n",
       "    </tr>\n",
       "  </tbody>\n",
       "</table>\n",
       "</div>"
      ],
      "text/plain": [
       "      HitRate@1  HitRate@5     MAP@5    NDCG@5\n",
       "HNSW   0.280948   0.561018  0.180984  0.252473\n",
       "ALS    0.279192   0.560140  0.179415  0.251115"
      ]
     },
     "execution_count": 25,
     "metadata": {},
     "output_type": "execute_result"
    }
   ],
   "source": [
    "%%time\n",
    "prediction_quality.add_result(\"HNSW\", ann_res)\n",
    "prediction_quality.results.sort_values('NDCG@5', ascending=False)"
   ]
  },
  {
   "cell_type": "markdown",
   "id": "e3e3be00-59d6-4f2e-88e4-120c55cacdcf",
   "metadata": {},
   "source": [
    "### MLlib LSH"
   ]
  },
  {
   "cell_type": "code",
   "execution_count": 26,
   "id": "10cdfddd-3f08-45bc-a316-81e77be29955",
   "metadata": {},
   "outputs": [],
   "source": [
    "list_to_vector_udf = udf(lambda l: Vectors.dense(l), VectorUDT())"
   ]
  },
  {
   "cell_type": "code",
   "execution_count": 27,
   "id": "e8751153-0940-4f81-a273-da0c52d0613d",
   "metadata": {},
   "outputs": [
    {
     "name": "stdout",
     "output_type": "stream",
     "text": [
      "CPU times: user 24.2 ms, sys: 1.83 ms, total: 26 ms\n",
      "Wall time: 716 ms\n"
     ]
    }
   ],
   "source": [
    "%%time\n",
    "\n",
    "user_indexer = StringIndexer(\n",
    "    inputCol=\"user_idx\", outputCol=\"user_idx_indexed\"\n",
    ").fit(only_positives_log.select('user_idx').distinct())\n",
    "item_indexer = StringIndexer(\n",
    "    inputCol=\"item_idx\", outputCol=\"item_idx_indexed\"\n",
    ").fit(only_positives_log.select('item_idx').distinct())\n",
    "\n",
    "inv_user_indexer = IndexToString(\n",
    "    inputCol=\"user_idx_indexed\",\n",
    "    outputCol=\"user_idx\",\n",
    "    labels=user_indexer.labels,\n",
    ")\n",
    "inv_item_indexer = IndexToString(\n",
    "    inputCol=\"item_idx_indexed\",\n",
    "    outputCol=\"item_idx\",\n",
    "    labels=item_indexer.labels,\n",
    ")"
   ]
  },
  {
   "cell_type": "code",
   "execution_count": 28,
   "id": "dab5c3a8-913f-427d-9119-963d7bf63bee",
   "metadata": {},
   "outputs": [
    {
     "name": "stdout",
     "output_type": "stream",
     "text": [
      "CPU times: user 5.36 ms, sys: 2.44 ms, total: 7.8 ms\n",
      "Wall time: 68.9 ms\n"
     ]
    }
   ],
   "source": [
    "%%time\n",
    "\n",
    "user_vectors_brp = (user_indexer.transform(user_vectors)\n",
    "                    .withColumn('user_idx_indexed', sf.col('user_idx_indexed').cast(\"int\"))\n",
    "                    .drop('us`ber_idx')\n",
    "                    .withColumnRenamed('user_idx_indexed', 'id')\n",
    "                    .withColumn('features', list_to_vector_udf(sf.col('user_factors')))\n",
    "                    .drop('user_factors')\n",
    "                   )\n",
    "item_vectors_brp = (item_indexer.transform(item_vectors)\n",
    "                    .withColumn('item_idx_indexed', sf.col('item_idx_indexed').cast(\"int\"))\n",
    "                    .drop('item_idx')\n",
    "                    .withColumnRenamed('item_idx_indexed', 'id')\n",
    "                    .withColumn('features', list_to_vector_udf(sf.col('item_factors')))\n",
    "                    .drop('item_factors')\n",
    "                   )"
   ]
  },
  {
   "cell_type": "code",
   "execution_count": 29,
   "id": "744605b9-adbe-4e5d-a4c3-cc2792a845d2",
   "metadata": {},
   "outputs": [],
   "source": [
    "# %%time\n",
    "# user_vectors_brp.write.parquet(path='user_vectors_lsh.parquet', mode='overwrite')\n",
    "# item_vectors_brp.write.parquet(path='item_vectors_lsh.parquet', mode='overwrite')"
   ]
  },
  {
   "cell_type": "markdown",
   "id": "25e32b5c-d0e5-42d0-a596-252563cca436",
   "metadata": {},
   "source": [
    "### Normalize vectors for better index performance and easier selection of bucketLength"
   ]
  },
  {
   "cell_type": "code",
   "execution_count": 30,
   "id": "568b44dd-7cb6-468a-b1d0-a2489885a187",
   "metadata": {},
   "outputs": [],
   "source": [
    "@sf.udf(returnType=VectorUDT())\n",
    "def norm_vector(first: DenseVector) -> DenseVector:\n",
    "    return first * (1/float(first.dot(first))) ** 0.5"
   ]
  },
  {
   "cell_type": "code",
   "execution_count": 31,
   "id": "0d5c95ab-cc0f-4d56-9e35-943625da84f1",
   "metadata": {},
   "outputs": [
    {
     "name": "stdout",
     "output_type": "stream",
     "text": [
      "CPU times: user 23.5 ms, sys: 12 ms, total: 35.5 ms\n",
      "Wall time: 4.36 s\n"
     ]
    },
    {
     "data": {
      "text/plain": [
       "1139"
      ]
     },
     "execution_count": 31,
     "metadata": {},
     "output_type": "execute_result"
    }
   ],
   "source": [
    "%%time\n",
    "item_vectors_brp_n = item_vectors_brp.withColumn('features', norm_vector(sf.col('features')))\n",
    "user_vectors_brp_n = user_vectors_brp.withColumn('features', norm_vector(sf.col('features')))\n",
    "\n",
    "\n",
    "item_vectors_brp_n = item_vectors_brp_n.cache()\n",
    "user_vectors_brp_n = user_vectors_brp_n.cache()\n",
    "item_vectors_brp_n.count()\n",
    "user_vectors_brp_n.count()"
   ]
  },
  {
   "cell_type": "code",
   "execution_count": 32,
   "id": "80b23e83-d289-4a7a-8c70-586063528f60",
   "metadata": {},
   "outputs": [
    {
     "name": "stdout",
     "output_type": "stream",
     "text": [
      "CPU times: user 3.77 ms, sys: 636 µs, total: 4.4 ms\n",
      "Wall time: 76.2 ms\n"
     ]
    }
   ],
   "source": [
    "%%time\n",
    "brp = BucketedRandomProjectionLSH(inputCol='features', seed=SEED, bucketLength=1, numHashTables=1)  #be ware with bucketLength\n",
    "start = time.time()\n",
    "brp_model = brp.fit(item_vectors_brp_n)\n",
    "end = time.time()\n",
    "index_time_dict['LSH'] = exec_time(start,end)"
   ]
  },
  {
   "cell_type": "code",
   "execution_count": 33,
   "id": "cca50d7a-2340-404a-9399-f86b573d361f",
   "metadata": {},
   "outputs": [],
   "source": [
    "def convert_back(inv_user_indexer, inv_item_indexer, log):\n",
    "    res = log\n",
    "    if \"user_idx_indexed\" in log.columns:\n",
    "        res = (\n",
    "            inv_user_indexer.transform(res)\n",
    "            .drop(\"user_idx_indexed\")\n",
    "            .withColumn(\"user_idx\", sf.col(\"user_idx\").cast(train.schema[\"user_idx\"].dataType))\n",
    "        )\n",
    "    if \"item_idx_indexed\" in log.columns:\n",
    "        res = (\n",
    "            inv_item_indexer.transform(res)\n",
    "            .drop(\"item_idx_indexed\")\n",
    "            .withColumn(\"item_idx\", sf.col(\"item_idx\").cast(train.schema[\"item_idx\"].dataType))\n",
    "        )\n",
    "    return res"
   ]
  },
  {
   "cell_type": "code",
   "execution_count": 34,
   "id": "c455e8ec-1b2c-4bd6-808d-49937cba31e6",
   "metadata": {},
   "outputs": [],
   "source": [
    "def get_pred_from_brp(fitted_brp):\n",
    "    test_all = fitted_brp.approxSimilarityJoin(user_vectors_brp_n, \n",
    "                                          item_vectors_brp_n,\n",
    "                                          threshold = 2.,\n",
    "                                          distCol=\"EuclideanDistance\").select(\n",
    "    sf.col(\"datasetA.id\").alias(\"user_idx_indexed\"),\n",
    "    sf.col(\"datasetB.id\").alias(\"item_idx_indexed\"),\n",
    "    (sf.col(\"EuclideanDistance\") * sf.lit(-1)).alias('relevance'))\n",
    "    \n",
    "    test_res = test_all.withColumn(\"temp_rank\",\n",
    "        sf.row_number().over(\n",
    "            Window.partitionBy(\"user_idx_indexed\").orderBy(\n",
    "                sf.col(\"relevance\").desc()\n",
    "            )\n",
    "        )\n",
    "    ).filter(sf.col(\"temp_rank\") <= sf.lit(max_items_to_retrieve + K))\n",
    "\n",
    "    test_res = convert_back(inv_user_indexer, inv_item_indexer, test_res)\n",
    "    test_res = test_res.cache()\n",
    "    test_res_filter = get_top_k_recs(filter_seen(train, test_res, K), K)\n",
    "    test_res = get_top_k_recs(test_res, K)\n",
    "    test_res = test_res.cache()\n",
    "    test_res.count()\n",
    "    return test_res_filter, test_res"
   ]
  },
  {
   "cell_type": "code",
   "execution_count": 35,
   "id": "0956298b-af19-47c4-9f22-197dff758bc1",
   "metadata": {},
   "outputs": [
    {
     "name": "stdout",
     "output_type": "stream",
     "text": [
      "CPU times: user 322 ms, sys: 97.7 ms, total: 420 ms\n",
      "Wall time: 18.4 s\n"
     ]
    }
   ],
   "source": [
    "%%time\n",
    "start = time.time()\n",
    "brp_pred_filtered, brp_pred = get_pred_from_brp(brp_model)   #time depends on threshold\n",
    "end=time.time()\n",
    "time_dict['LSH'] = exec_time(start,end)"
   ]
  },
  {
   "cell_type": "code",
   "execution_count": 36,
   "id": "4fde5817-c3b0-4bf8-b8e2-e1ac73d02e43",
   "metadata": {},
   "outputs": [],
   "source": [
    "prediction_quality.add_result(\"LSH\", brp_pred_filtered)"
   ]
  },
  {
   "cell_type": "markdown",
   "id": "1f4a2f99-765a-4576-a5f9-3398cf2c2786",
   "metadata": {},
   "source": [
    "## ScaNN"
   ]
  },
  {
   "cell_type": "code",
   "execution_count": 37,
   "id": "4cbc5d3c-9d66-4059-9d98-f4a85a7c8d61",
   "metadata": {},
   "outputs": [],
   "source": [
    "item_vectors_np_scann = np.array(list(item_vectors_np))\n",
    "user_vectors_np_scann = np.array(list(user_vectors_np))"
   ]
  },
  {
   "cell_type": "code",
   "execution_count": 38,
   "id": "7d114da8-1cf0-4bc8-8842-513d3ee6ee89",
   "metadata": {},
   "outputs": [],
   "source": [
    "def compute_recall(neighbors, true_neighbors):\n",
    "    total = 0\n",
    "    for gt_row, row in zip(true_neighbors, neighbors):\n",
    "        total += np.intersect1d(gt_row, row).shape[0]\n",
    "    return total / true_neighbors.size"
   ]
  },
  {
   "cell_type": "code",
   "execution_count": 39,
   "id": "cb03d805-3019-4fac-91ca-6ff9f12a13c4",
   "metadata": {},
   "outputs": [
    {
     "name": "stdout",
     "output_type": "stream",
     "text": [
      "CPU times: user 5.5 ms, sys: 15.1 ms, total: 20.6 ms\n",
      "Wall time: 9.76 ms\n"
     ]
    }
   ],
   "source": [
    "%%time\n",
    "start = time.time()\n",
    "searcher = scann.scann_ops_pybind.builder(item_vectors_np_scann, K + int(max_items_to_retrieve/20), \"dot_product\").score_brute_force().build()\n",
    "end = time.time()\n",
    "index_time_dict['SCANN'] = exec_time(start,end)"
   ]
  },
  {
   "cell_type": "code",
   "execution_count": 40,
   "id": "85e998d7-5dff-4a2b-b70d-6f64073b6702",
   "metadata": {},
   "outputs": [],
   "source": [
    "def get_neighbours_scann(searcher, vectors, user_ids_list, item_ids_list, k):\n",
    "   \n",
    "    neighbors, distances = searcher.search_batched(user_vectors_np_scann)\n",
    "    pd_res = pd.DataFrame({'user_idx': np.repeat(user_ids_list, k),'item_idx': neighbors.flatten(), 'relevance': distances.flatten()})\n",
    "    spark_res = spark.createDataFrame(pd_res)\n",
    "    ids_mapping = pd.DataFrame(list(zip(range(len(list(item_ids_list))),\n",
    "                                                 list(item_ids_list))), columns = ['item_idx', 'item_id'])    \n",
    "\n",
    "    ids_mapping = spark.createDataFrame(ids_mapping)    \n",
    "    spark_res = spark_res.join(ids_mapping, on='item_idx').drop('item_idx').orderBy('user_idx')\n",
    "    def withColumnRenamed(existingName, newName): DataFrame\n",
    "    spark_res = spark_res.withColumnRenamed(\"item_id\",\"item_idx\")\n",
    "    return spark_res\n",
    "    "
   ]
  },
  {
   "cell_type": "code",
   "execution_count": 41,
   "id": "54396040-7509-4f7a-89f1-ec74b3c3c984",
   "metadata": {},
   "outputs": [
    {
     "name": "stderr",
     "output_type": "stream",
     "text": [
      "/usr/local/spark/python/pyspark/sql/pandas/conversion.py:425: UserWarning: createDataFrame attempted Arrow optimization because 'spark.sql.execution.arrow.pyspark.enabled' is set to true; however, failed by the reason below:\n",
      "  Unsupported type in conversion from Arrow: uint32\n",
      "Attempting non-optimization as 'spark.sql.execution.arrow.pyspark.fallback.enabled' is set to true.\n",
      "  warn(msg)\n"
     ]
    },
    {
     "name": "stdout",
     "output_type": "stream",
     "text": [
      "CPU times: user 1.78 s, sys: 46.9 ms, total: 1.83 s\n",
      "Wall time: 4.66 s\n"
     ]
    }
   ],
   "source": [
    "%%time\n",
    "start = time.time()\n",
    "scann_res = get_neighbours_scann(searcher, user_vectors_np_scann, user_ids_np, item_ids_np, K + int(max_items_to_retrieve/20)) #K + max_items_to_retrieve\n",
    "scann_res = filter_seen(train, scann_res, K)\n",
    "scann_res = scann_res.cache()\n",
    "scann_res.count()\n",
    "end = time.time()\n",
    "time_dict['SCANN'] = exec_time(start,end)"
   ]
  },
  {
   "cell_type": "code",
   "execution_count": 42,
   "id": "2d3f3068-99ef-488c-8111-abb74b4ec60a",
   "metadata": {},
   "outputs": [
    {
     "data": {
      "text/html": [
       "<div>\n",
       "<style scoped>\n",
       "    .dataframe tbody tr th:only-of-type {\n",
       "        vertical-align: middle;\n",
       "    }\n",
       "\n",
       "    .dataframe tbody tr th {\n",
       "        vertical-align: top;\n",
       "    }\n",
       "\n",
       "    .dataframe thead th {\n",
       "        text-align: right;\n",
       "    }\n",
       "</style>\n",
       "<table border=\"1\" class=\"dataframe\">\n",
       "  <thead>\n",
       "    <tr style=\"text-align: right;\">\n",
       "      <th></th>\n",
       "      <th>HitRate@1</th>\n",
       "      <th>HitRate@5</th>\n",
       "      <th>MAP@5</th>\n",
       "      <th>NDCG@5</th>\n",
       "    </tr>\n",
       "  </thead>\n",
       "  <tbody>\n",
       "    <tr>\n",
       "      <th>HNSW</th>\n",
       "      <td>0.280948</td>\n",
       "      <td>0.561018</td>\n",
       "      <td>0.180984</td>\n",
       "      <td>0.252473</td>\n",
       "    </tr>\n",
       "    <tr>\n",
       "      <th>ALS</th>\n",
       "      <td>0.279192</td>\n",
       "      <td>0.560140</td>\n",
       "      <td>0.179415</td>\n",
       "      <td>0.251115</td>\n",
       "    </tr>\n",
       "    <tr>\n",
       "      <th>SCANN</th>\n",
       "      <td>0.274802</td>\n",
       "      <td>0.537313</td>\n",
       "      <td>0.171060</td>\n",
       "      <td>0.239966</td>\n",
       "    </tr>\n",
       "    <tr>\n",
       "      <th>LSH</th>\n",
       "      <td>0.232660</td>\n",
       "      <td>0.478490</td>\n",
       "      <td>0.134290</td>\n",
       "      <td>0.196782</td>\n",
       "    </tr>\n",
       "  </tbody>\n",
       "</table>\n",
       "</div>"
      ],
      "text/plain": [
       "       HitRate@1  HitRate@5     MAP@5    NDCG@5\n",
       "HNSW    0.280948   0.561018  0.180984  0.252473\n",
       "ALS     0.279192   0.560140  0.179415  0.251115\n",
       "SCANN   0.274802   0.537313  0.171060  0.239966\n",
       "LSH     0.232660   0.478490  0.134290  0.196782"
      ]
     },
     "execution_count": 42,
     "metadata": {},
     "output_type": "execute_result"
    }
   ],
   "source": [
    "prediction_quality.add_result(\"SCANN\", scann_res)\n",
    "prediction_quality.results.sort_values('NDCG@5', ascending=False)"
   ]
  },
  {
   "cell_type": "code",
   "execution_count": 43,
   "id": "a12ea440-10a4-4d2c-b521-8338b6175e61",
   "metadata": {},
   "outputs": [],
   "source": [
    "res = prediction_quality.results"
   ]
  },
  {
   "cell_type": "code",
   "execution_count": 44,
   "id": "98b11542-baa3-47be-b0fd-fe45fee15255",
   "metadata": {},
   "outputs": [],
   "source": [
    "res['index_time'] = index_time_dict.values()"
   ]
  },
  {
   "cell_type": "code",
   "execution_count": 45,
   "id": "ed1806d3-029b-40b9-9ed7-741fd4c2120e",
   "metadata": {},
   "outputs": [],
   "source": [
    "res['inference_time'] = time_dict.values()"
   ]
  },
  {
   "cell_type": "code",
   "execution_count": 46,
   "id": "1f3546d9-bba1-4aef-824d-2a25b348bdb1",
   "metadata": {},
   "outputs": [
    {
     "data": {
      "text/html": [
       "<div>\n",
       "<style scoped>\n",
       "    .dataframe tbody tr th:only-of-type {\n",
       "        vertical-align: middle;\n",
       "    }\n",
       "\n",
       "    .dataframe tbody tr th {\n",
       "        vertical-align: top;\n",
       "    }\n",
       "\n",
       "    .dataframe thead th {\n",
       "        text-align: right;\n",
       "    }\n",
       "</style>\n",
       "<table border=\"1\" class=\"dataframe\">\n",
       "  <thead>\n",
       "    <tr style=\"text-align: right;\">\n",
       "      <th></th>\n",
       "      <th>HitRate@1</th>\n",
       "      <th>HitRate@5</th>\n",
       "      <th>MAP@5</th>\n",
       "      <th>NDCG@5</th>\n",
       "      <th>index_time</th>\n",
       "      <th>inference_time</th>\n",
       "    </tr>\n",
       "  </thead>\n",
       "  <tbody>\n",
       "    <tr>\n",
       "      <th>ALS</th>\n",
       "      <td>0.279192</td>\n",
       "      <td>0.560140</td>\n",
       "      <td>0.179415</td>\n",
       "      <td>0.251115</td>\n",
       "      <td>0.0000</td>\n",
       "      <td>202.4480</td>\n",
       "    </tr>\n",
       "    <tr>\n",
       "      <th>HNSW</th>\n",
       "      <td>0.280948</td>\n",
       "      <td>0.561018</td>\n",
       "      <td>0.180984</td>\n",
       "      <td>0.252473</td>\n",
       "      <td>0.1619</td>\n",
       "      <td>3.6091</td>\n",
       "    </tr>\n",
       "    <tr>\n",
       "      <th>LSH</th>\n",
       "      <td>0.232660</td>\n",
       "      <td>0.478490</td>\n",
       "      <td>0.134290</td>\n",
       "      <td>0.196782</td>\n",
       "      <td>0.0702</td>\n",
       "      <td>18.3989</td>\n",
       "    </tr>\n",
       "    <tr>\n",
       "      <th>SCANN</th>\n",
       "      <td>0.274802</td>\n",
       "      <td>0.537313</td>\n",
       "      <td>0.171060</td>\n",
       "      <td>0.239966</td>\n",
       "      <td>0.0097</td>\n",
       "      <td>4.6555</td>\n",
       "    </tr>\n",
       "  </tbody>\n",
       "</table>\n",
       "</div>"
      ],
      "text/plain": [
       "       HitRate@1  HitRate@5     MAP@5    NDCG@5  index_time  inference_time\n",
       "ALS     0.279192   0.560140  0.179415  0.251115      0.0000        202.4480\n",
       "HNSW    0.280948   0.561018  0.180984  0.252473      0.1619          3.6091\n",
       "LSH     0.232660   0.478490  0.134290  0.196782      0.0702         18.3989\n",
       "SCANN   0.274802   0.537313  0.171060  0.239966      0.0097          4.6555"
      ]
     },
     "execution_count": 46,
     "metadata": {},
     "output_type": "execute_result"
    }
   ],
   "source": [
    "res"
   ]
  },
  {
   "cell_type": "code",
   "execution_count": null,
   "id": "2e80fbaa-fb81-4b45-8d3c-03bce28e6e82",
   "metadata": {},
   "outputs": [],
   "source": []
  },
  {
   "cell_type": "code",
   "execution_count": null,
   "id": "cc3c3dd5-a7dd-4f1e-9594-093882fc6d26",
   "metadata": {},
   "outputs": [],
   "source": []
  },
  {
   "cell_type": "code",
   "execution_count": null,
   "id": "1bc25bc6-a168-4be3-93cc-3bdea8f8f27a",
   "metadata": {},
   "outputs": [],
   "source": []
  },
  {
   "cell_type": "code",
   "execution_count": null,
   "id": "c63a7a07-dff2-4deb-be95-1bf4f7dfd4b8",
   "metadata": {},
   "outputs": [],
   "source": []
  },
  {
   "cell_type": "code",
   "execution_count": null,
   "id": "10b82efe-dcb1-4741-8076-8ad00666c156",
   "metadata": {},
   "outputs": [],
   "source": []
  }
 ],
 "metadata": {
  "kernelspec": {
   "display_name": "py39",
   "language": "python",
   "name": "py39"
  },
  "language_info": {
   "codemirror_mode": {
    "name": "ipython",
    "version": 3
   },
   "file_extension": ".py",
   "mimetype": "text/x-python",
   "name": "python",
   "nbconvert_exporter": "python",
   "pygments_lexer": "ipython3",
   "version": "3.9.13"
  },
  "toc-autonumbering": true,
  "toc-showcode": true
 },
 "nbformat": 4,
 "nbformat_minor": 5
}
